{
  "cells": [
    {
      "cell_type": "code",
      "execution_count": 44,
      "metadata": {
        "id": "2jmOZy5phIzv"
      },
      "outputs": [],
      "source": [
        "import torch\n",
        "import torch.nn as nn\n",
        "import torch.optim as optim\n",
        "from torch.optim import lr_scheduler\n",
        "import numpy as np\n",
        "import torchvision\n",
        "from torchvision import datasets, models, transforms\n",
        "import matplotlib.pyplot as plt\n",
        "import time\n",
        "import os\n",
        "import copy"
      ]
    },
    {
      "cell_type": "code",
      "execution_count": 45,
      "metadata": {
        "id": "CMgCRhychQJC"
      },
      "outputs": [],
      "source": [
        "mean = np.array([0.5, 0.5, 0.5])\n",
        "std = np.array([0.25, 0.25, 0.25])"
      ]
    },
    {
      "cell_type": "code",
      "execution_count": 46,
      "metadata": {
        "id": "UJrI5CPHhZAZ"
      },
      "outputs": [],
      "source": [
        "data_transforms = {\n",
        "    'train': transforms.Compose([\n",
        "        transforms.RandomResizedCrop(224),\n",
        "        transforms.RandomHorizontalFlip(),\n",
        "        transforms.ToTensor(),\n",
        "        transforms.Normalize(mean, std)\n",
        "    ]),\n",
        "    'val': transforms.Compose([\n",
        "        transforms.CenterCrop(224),\n",
        "        transforms.ToTensor(),\n",
        "        transforms.Normalize(mean, std)\n",
        "    ]),\n",
        "}"
      ]
    },
    {
      "cell_type": "code",
      "execution_count": 47,
      "metadata": {
        "colab": {
          "base_uri": "https://localhost:8080/"
        },
        "id": "Et3jlI85pSVV",
        "outputId": "3608d6da-8a2f-4996-ee8a-1cead5e82a1b"
      },
      "outputs": [
        {
          "output_type": "stream",
          "name": "stdout",
          "text": [
            "Drive already mounted at /content/drive; to attempt to forcibly remount, call drive.mount(\"/content/drive\", force_remount=True).\n"
          ]
        }
      ],
      "source": [
        "from google.colab import drive\n",
        "drive.mount('/content/drive')"
      ]
    },
    {
      "cell_type": "code",
      "execution_count": 48,
      "metadata": {
        "colab": {
          "base_uri": "https://localhost:8080/"
        },
        "id": "Y_UzkOOvq7LK",
        "outputId": "b3fff58f-2079-4988-f3b4-9e649f35575c"
      },
      "outputs": [
        {
          "output_type": "stream",
          "name": "stdout",
          "text": [
            "['blade', 'knife', 'scissors']\n"
          ]
        }
      ],
      "source": [
        "data_dir = '/content/drive/MyDrive/Threat_level_detection_tl'\n",
        "image_datasets = {x: datasets.ImageFolder(os.path.join(data_dir, x),\n",
        "                                          data_transforms[x])\n",
        "                  for x in ['train', 'val']}\n",
        "dataloaders = {x: torch.utils.data.DataLoader(image_datasets[x], batch_size=4,\n",
        "                                             shuffle=True, num_workers=0)\n",
        "              for x in ['train', 'val']}\n",
        "dataset_sizes = {x: len(image_datasets[x]) for x in ['train', 'val']}\n",
        "class_names = image_datasets['train'].classes\n",
        "\n",
        "device = torch.device(\"cuda:0\" if torch.cuda.is_available() else \"cpu\")\n",
        "print(class_names)"
      ]
    },
    {
      "cell_type": "code",
      "execution_count": 49,
      "metadata": {
        "id": "pk21UB8CrJKi"
      },
      "outputs": [],
      "source": [
        "def imshow(inp, title):\n",
        "    \"\"\"Imshow for Tensor.\"\"\"\n",
        "    inp = inp.numpy().transpose((1, 2, 0))\n",
        "    inp = std * inp + mean\n",
        "    inp = np.clip(inp, 0, 1)\n",
        "    plt.imshow(inp)\n",
        "    plt.title(title)\n",
        "    plt.show()"
      ]
    },
    {
      "cell_type": "code",
      "execution_count": 50,
      "metadata": {
        "colab": {
          "base_uri": "https://localhost:8080/",
          "height": 148
        },
        "id": "ES1U6LshrhRx",
        "outputId": "874a4b95-f6b6-4178-c495-873d55588410"
      },
      "outputs": [
        {
          "output_type": "display_data",
          "data": {
            "text/plain": [
              "<Figure size 432x288 with 1 Axes>"
            ],
            "image/png": "[encoded data removed]"
          },
          "metadata": {
            "needs_background": "light"
          }
        }
      ],
      "source": [
        "# Get a batch of training data\n",
        "inputs, classes = next(iter(dataloaders['train']))\n",
        "\n",
        "# Make a grid from batch\n",
        "out = torchvision.utils.make_grid(inputs)\n",
        "\n",
        "imshow(out, title=[class_names[x] for x in classes])"
      ]
    },
    {
      "cell_type": "code",
      "execution_count": 51,
      "metadata": {
        "id": "E1PtS4qMrmAg"
      },
      "outputs": [],
      "source": [
        "def train_model(model, criterion, optimizer, scheduler, num_epochs=25):\n",
        "    since = time.time()\n",
        "\n",
        "    best_model_wts = copy.deepcopy(model.state_dict())\n",
        "    best_acc = 0.0\n",
        "\n",
        "    for epoch in range(num_epochs):\n",
        "        print('Epoch {}/{}'.format(epoch, num_epochs - 1))\n",
        "        print('-' * 10)\n",
        "\n",
        "        # Each epoch has a training and validation phase\n",
        "        for phase in ['train', 'val']:\n",
        "            if phase == 'train':\n",
        "                model.train()  # Set model to training mode\n",
        "            else:\n",
        "                model.eval()   # Set model to evaluate mode\n",
        "\n",
        "            running_loss = 0.0\n",
        "            running_corrects = 0\n",
        "\n",
        "            # Iterate over data.\n",
        "            for inputs, labels in dataloaders[phase]:\n",
        "                inputs = inputs.to(device)\n",
        "                labels = labels.to(device)\n",
        "\n",
        "                # forward\n",
        "                # track history if only in train\n",
        "                with torch.set_grad_enabled(phase == 'train'):\n",
        "                    outputs = model(inputs)\n",
        "                    _, preds = torch.max(outputs, 1)\n",
        "                    loss = criterion(outputs, labels)\n",
        "\n",
        "                    # backward + optimize only if in training phase\n",
        "                    if phase == 'train':\n",
        "                        optimizer.zero_grad()\n",
        "                        loss.backward()\n",
        "                        optimizer.step()\n",
        "\n",
        "                # statistics\n",
        "                running_loss += loss.item() * inputs.size(0)\n",
        "                running_corrects += torch.sum(preds == labels.data)\n",
        "\n",
        "            if phase == 'train':\n",
        "                scheduler.step()\n",
        "\n",
        "            epoch_loss = running_loss / dataset_sizes[phase]\n",
        "            epoch_acc = running_corrects.double() / dataset_sizes[phase]\n",
        "\n",
        "            print('{} Loss: {:.4f} Acc: {:.4f}'.format(\n",
        "                phase, epoch_loss, epoch_acc))\n",
        "\n",
        "            # deep copy the model\n",
        "            if phase == 'val' and epoch_acc > best_acc:\n",
        "                best_acc = epoch_acc\n",
        "                best_model_wts = copy.deepcopy(model.state_dict())\n",
        "\n",
        "        print()\n",
        "\n",
        "    time_elapsed = time.time() - since\n",
        "    print('Training complete in {:.0f}m {:.0f}s'.format(\n",
        "        time_elapsed // 60, time_elapsed % 60))\n",
        "    print('Best val Acc: {:4f}'.format(best_acc))\n",
        "\n",
        "    # load best model weights\n",
        "    model.load_state_dict(best_model_wts)\n",
        "    return model\n",
        "\n"
      ]
    },
    {
      "cell_type": "code",
      "execution_count": 52,
      "metadata": {
        "id": "lP6x1gkKrqI9"
      },
      "outputs": [],
      "source": [
        "model = models.resnet18(pretrained=True)\n",
        "num_ftrs = model.fc.in_features\n",
        "# Here the size of each output sample is set to 2.\n",
        "# Alternatively, it can be generalized to nn.Linear(num_ftrs, len(class_names)).\n",
        "model.fc = nn.Linear(num_ftrs, 3)\n",
        "\n",
        "model = model.to(device)\n",
        "\n",
        "criterion = nn.CrossEntropyLoss()\n",
        "\n",
        "# Observe that all parameters are being optimized\n",
        "optimizer = optim.SGD(model.parameters(), lr=0.001)"
      ]
    },
    {
      "cell_type": "code",
      "execution_count": 53,
      "metadata": {
        "colab": {
          "base_uri": "https://localhost:8080/"
        },
        "id": "Hkgpi4O5ruL1",
        "outputId": "90a9fd3d-6844-429f-fce9-cba6e0d342a9"
      },
      "outputs": [
        {
          "output_type": "stream",
          "name": "stdout",
          "text": [
            "Epoch 0/24\n",
            "----------\n",
            "train Loss: 0.7618 Acc: 0.6894\n",
            "val Loss: 0.3198 Acc: 0.9091\n",
            "\n",
            "Epoch 1/24\n",
            "----------\n",
            "train Loss: 0.4329 Acc: 0.8649\n",
            "val Loss: 0.1479 Acc: 0.9747\n",
            "\n",
            "Epoch 2/24\n",
            "----------\n",
            "train Loss: 0.3702 Acc: 0.8548\n",
            "val Loss: 0.0979 Acc: 0.9848\n",
            "\n",
            "Epoch 3/24\n",
            "----------\n",
            "train Loss: 0.2866 Acc: 0.9040\n",
            "val Loss: 0.0539 Acc: 0.9899\n",
            "\n",
            "Epoch 4/24\n",
            "----------\n",
            "train Loss: 0.2901 Acc: 0.8990\n",
            "val Loss: 0.0371 Acc: 1.0000\n",
            "\n",
            "Epoch 5/24\n",
            "----------\n",
            "train Loss: 0.2926 Acc: 0.9028\n",
            "val Loss: 0.0304 Acc: 0.9949\n",
            "\n",
            "Epoch 6/24\n",
            "----------\n",
            "train Loss: 0.2590 Acc: 0.9003\n",
            "val Loss: 0.0354 Acc: 1.0000\n",
            "\n",
            "Epoch 7/24\n",
            "----------\n",
            "train Loss: 0.2663 Acc: 0.9141\n",
            "val Loss: 0.0196 Acc: 1.0000\n",
            "\n",
            "Epoch 8/24\n",
            "----------\n",
            "train Loss: 0.2291 Acc: 0.9230\n",
            "val Loss: 0.0209 Acc: 1.0000\n",
            "\n",
            "Epoch 9/24\n",
            "----------\n",
            "train Loss: 0.2335 Acc: 0.9129\n",
            "val Loss: 0.0253 Acc: 1.0000\n",
            "\n",
            "Epoch 10/24\n",
            "----------\n",
            "train Loss: 0.2468 Acc: 0.9205\n",
            "val Loss: 0.0212 Acc: 1.0000\n",
            "\n",
            "Epoch 11/24\n",
            "----------\n",
            "train Loss: 0.2366 Acc: 0.9318\n",
            "val Loss: 0.0303 Acc: 0.9949\n",
            "\n",
            "Epoch 12/24\n",
            "----------\n",
            "train Loss: 0.2328 Acc: 0.9306\n",
            "val Loss: 0.0272 Acc: 1.0000\n",
            "\n",
            "Epoch 13/24\n",
            "----------\n",
            "train Loss: 0.2221 Acc: 0.9356\n",
            "val Loss: 0.0238 Acc: 1.0000\n",
            "\n",
            "Epoch 14/24\n",
            "----------\n",
            "train Loss: 0.2056 Acc: 0.9255\n",
            "val Loss: 0.0267 Acc: 0.9949\n",
            "\n",
            "Epoch 15/24\n",
            "----------\n",
            "train Loss: 0.2611 Acc: 0.9167\n",
            "val Loss: 0.0200 Acc: 1.0000\n",
            "\n",
            "Epoch 16/24\n",
            "----------\n",
            "train Loss: 0.2169 Acc: 0.9192\n",
            "val Loss: 0.0207 Acc: 1.0000\n",
            "\n",
            "Epoch 17/24\n",
            "----------\n",
            "train Loss: 0.2560 Acc: 0.9192\n",
            "val Loss: 0.0314 Acc: 0.9949\n",
            "\n",
            "Epoch 18/24\n",
            "----------\n",
            "train Loss: 0.2629 Acc: 0.9129\n",
            "val Loss: 0.0276 Acc: 0.9949\n",
            "\n",
            "Epoch 19/24\n",
            "----------\n",
            "train Loss: 0.2443 Acc: 0.9356\n",
            "val Loss: 0.0263 Acc: 0.9949\n",
            "\n",
            "Epoch 20/24\n",
            "----------\n",
            "train Loss: 0.2392 Acc: 0.9255\n",
            "val Loss: 0.0195 Acc: 1.0000\n",
            "\n",
            "Epoch 21/24\n",
            "----------\n",
            "train Loss: 0.2239 Acc: 0.9154\n",
            "val Loss: 0.0288 Acc: 0.9949\n",
            "\n",
            "Epoch 22/24\n",
            "----------\n",
            "train Loss: 0.2479 Acc: 0.9141\n",
            "val Loss: 0.0218 Acc: 1.0000\n",
            "\n",
            "Epoch 23/24\n",
            "----------\n",
            "train Loss: 0.2283 Acc: 0.9280\n",
            "val Loss: 0.0311 Acc: 0.9949\n",
            "\n",
            "Epoch 24/24\n",
            "----------\n",
            "train Loss: 0.2396 Acc: 0.9268\n",
            "val Loss: 0.0258 Acc: 1.0000\n",
            "\n",
            "Training complete in 4m 43s\n",
            "Best val Acc: 1.000000\n"
          ]
        }
      ],
      "source": [
        "step_lr_scheduler = lr_scheduler.StepLR(optimizer, step_size=7, gamma=0.1)\n",
        "\n",
        "model = train_model(model, criterion, optimizer, step_lr_scheduler, num_epochs=25)"
      ]
    },
    {
      "cell_type": "code",
      "execution_count": 54,
      "metadata": {
        "id": "v_8SveyDsBPg",
        "colab": {
          "base_uri": "https://localhost:8080/"
        },
        "outputId": "3ba00403-8eeb-4681-d780-6c0def68ebdd"
      },
      "outputs": [
        {
          "output_type": "stream",
          "name": "stdout",
          "text": [
            "Epoch 0/24\n",
            "----------\n",
            "train Loss: 0.8236 Acc: 0.6414\n",
            "val Loss: 0.3048 Acc: 0.8838\n",
            "\n",
            "Epoch 1/24\n",
            "----------\n",
            "train Loss: 0.5762 Acc: 0.7778\n",
            "val Loss: 0.2451 Acc: 0.9141\n",
            "\n",
            "Epoch 2/24\n",
            "----------\n",
            "train Loss: 0.5164 Acc: 0.7866\n",
            "val Loss: 0.1628 Acc: 0.9444\n",
            "\n",
            "Epoch 3/24\n",
            "----------\n",
            "train Loss: 0.5077 Acc: 0.7866\n",
            "val Loss: 0.1018 Acc: 0.9747\n",
            "\n",
            "Epoch 4/24\n",
            "----------\n",
            "train Loss: 0.4948 Acc: 0.8194\n",
            "val Loss: 0.2424 Acc: 0.8889\n",
            "\n",
            "Epoch 5/24\n",
            "----------\n",
            "train Loss: 0.5101 Acc: 0.7992\n",
            "val Loss: 0.1181 Acc: 0.9646\n",
            "\n",
            "Epoch 6/24\n",
            "----------\n",
            "train Loss: 0.4863 Acc: 0.8283\n",
            "val Loss: 0.1099 Acc: 0.9495\n",
            "\n",
            "Epoch 7/24\n",
            "----------\n",
            "train Loss: 0.3928 Acc: 0.8611\n",
            "val Loss: 0.1118 Acc: 0.9596\n",
            "\n",
            "Epoch 8/24\n",
            "----------\n",
            "train Loss: 0.3747 Acc: 0.8699\n",
            "val Loss: 0.0898 Acc: 0.9697\n",
            "\n",
            "Epoch 9/24\n",
            "----------\n",
            "train Loss: 0.3664 Acc: 0.8497\n",
            "val Loss: 0.0944 Acc: 0.9798\n",
            "\n",
            "Epoch 10/24\n",
            "----------\n",
            "train Loss: 0.3475 Acc: 0.8636\n",
            "val Loss: 0.0661 Acc: 0.9899\n",
            "\n",
            "Epoch 11/24\n",
            "----------\n",
            "train Loss: 0.3664 Acc: 0.8586\n",
            "val Loss: 0.0941 Acc: 0.9646\n",
            "\n",
            "Epoch 12/24\n",
            "----------\n",
            "train Loss: 0.4028 Acc: 0.8485\n",
            "val Loss: 0.0728 Acc: 0.9798\n",
            "\n",
            "Epoch 13/24\n",
            "----------\n",
            "train Loss: 0.3633 Acc: 0.8624\n",
            "val Loss: 0.1055 Acc: 0.9798\n",
            "\n",
            "Epoch 14/24\n",
            "----------\n",
            "train Loss: 0.3849 Acc: 0.8434\n",
            "val Loss: 0.0704 Acc: 0.9848\n",
            "\n",
            "Epoch 15/24\n",
            "----------\n",
            "train Loss: 0.3923 Acc: 0.8472\n",
            "val Loss: 0.1054 Acc: 0.9798\n",
            "\n",
            "Epoch 16/24\n",
            "----------\n",
            "train Loss: 0.3582 Acc: 0.8699\n",
            "val Loss: 0.0715 Acc: 0.9798\n",
            "\n",
            "Epoch 17/24\n",
            "----------\n",
            "train Loss: 0.3757 Acc: 0.8573\n",
            "val Loss: 0.1312 Acc: 0.9596\n",
            "\n",
            "Epoch 18/24\n",
            "----------\n",
            "train Loss: 0.3644 Acc: 0.8497\n",
            "val Loss: 0.0780 Acc: 0.9848\n",
            "\n",
            "Epoch 19/24\n",
            "----------\n",
            "train Loss: 0.3788 Acc: 0.8535\n",
            "val Loss: 0.0874 Acc: 0.9848\n",
            "\n",
            "Epoch 20/24\n",
            "----------\n",
            "train Loss: 0.3731 Acc: 0.8636\n",
            "val Loss: 0.0843 Acc: 0.9848\n",
            "\n",
            "Epoch 21/24\n",
            "----------\n",
            "train Loss: 0.3998 Acc: 0.8384\n",
            "val Loss: 0.0717 Acc: 0.9798\n",
            "\n",
            "Epoch 22/24\n",
            "----------\n",
            "train Loss: 0.3559 Acc: 0.8687\n",
            "val Loss: 0.0974 Acc: 0.9848\n",
            "\n",
            "Epoch 23/24\n",
            "----------\n",
            "train Loss: 0.3746 Acc: 0.8636\n",
            "val Loss: 0.0701 Acc: 0.9798\n",
            "\n",
            "Epoch 24/24\n",
            "----------\n",
            "train Loss: 0.3551 Acc: 0.8636\n",
            "val Loss: 0.0714 Acc: 0.9899\n",
            "\n",
            "Training complete in 2m 21s\n",
            "Best val Acc: 0.989899\n"
          ]
        }
      ],
      "source": [
        "model_conv = torchvision.models.resnet18(pretrained=True)\n",
        "for param in model_conv.parameters():\n",
        "    param.requires_grad = False\n",
        "\n",
        "# Parameters of newly constructed modules have requires_grad=True by default\n",
        "num_ftrs = model_conv.fc.in_features\n",
        "model_conv.fc = nn.Linear(num_ftrs, 3 )\n",
        "\n",
        "model_conv = model_conv.to(device)\n",
        "\n",
        "criterion = nn.CrossEntropyLoss()\n",
        "\n",
        "# Observe that only parameters of final layer are being optimized as\n",
        "# opposed to before.\n",
        "optimizer_conv = optim.SGD(model_conv.fc.parameters(), lr=0.001, momentum=0.9)\n",
        "\n",
        "# Decay LR by a factor of 0.1 every 7 epochs\n",
        "exp_lr_scheduler = lr_scheduler.StepLR(optimizer_conv, step_size=7, gamma=0.1)\n",
        "\n",
        "model_conv = train_model(model_conv, criterion, optimizer_conv,\n",
        "                         exp_lr_scheduler, num_epochs=25)"
      ]
    }
  ],
  "metadata": {
    "colab": {
      "name": "TransferLearning_deconv.ipynb",
      "provenance": []
    },
    "kernelspec": {
      "display_name": "Python 3",
      "name": "python3"
    },
    "language_info": {
      "name": "python"
    },
    "accelerator": "GPU",
    "gpuClass": "standard"
  },
  "nbformat": 4,
  "nbformat_minor": 0
}